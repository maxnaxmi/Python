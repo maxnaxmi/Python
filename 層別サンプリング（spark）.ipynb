{
  "nbformat": 4,
  "nbformat_minor": 0,
  "metadata": {
    "colab": {
      "name": "層別サンプリング（spark）.ipynb",
      "provenance": [],
      "collapsed_sections": [],
      "toc_visible": true,
      "authorship_tag": "ABX9TyOn07FteOCICbtGYpxDmwpD",
      "include_colab_link": true
    },
    "kernelspec": {
      "name": "python3",
      "display_name": "Python 3"
    }
  },
  "cells": [
    {
      "cell_type": "markdown",
      "metadata": {
        "id": "view-in-github",
        "colab_type": "text"
      },
      "source": [
        "<a href=\"https://colab.research.google.com/github/maxnaxmi/Python/blob/main/%E5%B1%A4%E5%88%A5%E3%82%B5%E3%83%B3%E3%83%97%E3%83%AA%E3%83%B3%E3%82%B0%EF%BC%88spark%EF%BC%89.ipynb\" target=\"_parent\"><img src=\"https://colab.research.google.com/assets/colab-badge.svg\" alt=\"Open In Colab\"/></a>"
      ]
    },
    {
      "cell_type": "markdown",
      "metadata": {
        "id": "Lxjp1zksklF1"
      },
      "source": [
        "# spark設定\n"
      ]
    },
    {
      "cell_type": "code",
      "metadata": {
        "id": "i4Oa_xeIjvQx"
      },
      "source": [
        "# ColabにSparkとJavaをインストール\n",
        "!apt-get install openjdk-8-jdk-headless -qq > /dev/null\n",
        "!wget -q https://www-us.apache.org/dist/spark/spark-2.4.7/spark-2.4.7-bin-hadoop2.7.tgz\n",
        "!tar xf spark-2.4.7-bin-hadoop2.7.tgz\n",
        "!pip install -q findspark"
      ],
      "execution_count": 22,
      "outputs": []
    },
    {
      "cell_type": "code",
      "metadata": {
        "id": "3AzDCLHfjxfP"
      },
      "source": [
        "# Colab環境でPysparkを実行できるようにする環境パスを設定\n",
        "import os\n",
        "os.environ[\"JAVA_HOME\"] = \"/usr/lib/jvm/java-8-openjdk-amd64\"\n",
        "os.environ[\"SPARK_HOME\"] = \"/content/spark-2.4.7-bin-hadoop2.7\""
      ],
      "execution_count": 23,
      "outputs": []
    },
    {
      "cell_type": "code",
      "metadata": {
        "id": "pmCkMo7RjzDw"
      },
      "source": [
        "# ローカルのSparkセッションを実行して、インストールをテスト\n",
        "import findspark\n",
        "findspark.init()\n",
        "from pyspark.sql import SparkSession\n",
        "spark = SparkSession.builder.master(\"local[*]\").getOrCreate()"
      ],
      "execution_count": 24,
      "outputs": []
    },
    {
      "cell_type": "code",
      "metadata": {
        "id": "59gjp7pVj0qp"
      },
      "source": [
        "from pyspark import SparkContext\n",
        "from pyspark.sql import SQLContext\n",
        "\n",
        "sc = SparkContext.getOrCreate()\n",
        "sqlContext = SQLContext(sc)"
      ],
      "execution_count": 25,
      "outputs": []
    },
    {
      "cell_type": "code",
      "metadata": {
        "colab": {
          "base_uri": "https://localhost:8080/",
          "height": 216
        },
        "id": "oKzutOGKBNIw",
        "outputId": "9057b8f5-818b-47fc-c818-f188ed949409"
      },
      "source": [
        "spark"
      ],
      "execution_count": 34,
      "outputs": [
        {
          "output_type": "execute_result",
          "data": {
            "text/html": [
              "\n",
              "            <div>\n",
              "                <p><b>SparkSession - in-memory</b></p>\n",
              "                \n",
              "        <div>\n",
              "            <p><b>SparkContext</b></p>\n",
              "\n",
              "            <p><a href=\"http://c5d2cf530a21:4040\">Spark UI</a></p>\n",
              "\n",
              "            <dl>\n",
              "              <dt>Version</dt>\n",
              "                <dd><code>v2.4.7</code></dd>\n",
              "              <dt>Master</dt>\n",
              "                <dd><code>local[*]</code></dd>\n",
              "              <dt>AppName</dt>\n",
              "                <dd><code>pyspark-shell</code></dd>\n",
              "            </dl>\n",
              "        </div>\n",
              "        \n",
              "            </div>\n",
              "        "
            ],
            "text/plain": [
              "<pyspark.sql.session.SparkSession at 0x7f6fa9d583c8>"
            ]
          },
          "metadata": {
            "tags": []
          },
          "execution_count": 34
        }
      ]
    },
    {
      "cell_type": "markdown",
      "metadata": {
        "id": "aoirOdzDk6W0"
      },
      "source": [
        "## 1.層別サンプリング\n",
        "\n",
        "sampleByサンプル　\n",
        "\n",
        "https://stackoverflow.com/questions/47637760/stratified-sampling-with-pyspark\n"
      ]
    },
    {
      "cell_type": "code",
      "metadata": {
        "id": "t4tAi4L6j5em"
      },
      "source": [
        "# inputデータ作成\n",
        "df = sc.parallelize([ (1,\"A\",282),(1,\"B\",179),(2,\"B\",178),(3,\"C\",191),(3,\"A\",828),(1,\"A\",158),(2,\"B\",231),(2,\"A\",199),(1,\"B\",385),(3,\"C\",128),\n",
        "                    (1,\"A\",111),(1,\"B\",234),(2,\"B\",154),(3,\"C\",354),(3,\"A\",411),(1,\"A\",156),(2,\"B\",144),(2,\"A\",274),(1,\"B\",598),(3,\"C\",106),\n",
        "                    (1,\"A\",421),(1,\"A\",224),(1,\"A\",400),(1,\"A\",237),(1,\"A\",256),(1,\"A\",384),(1,\"A\",250),(1,\"A\",421),(1,\"A\",508),(1,\"A\",614),\n",
        "                    (1,\"A\",422),(1,\"A\",264),(1,\"A\",410),(1,\"A\",137),(1,\"A\",256),(1,\"A\",381),(1,\"A\",251),(1,\"A\",340),(1,\"A\",501),(1,\"A\",114),\n",
        "                    (1,\"A\",423),(1,\"A\",614),(1,\"A\",420),(1,\"A\",437),(1,\"A\",257),(1,\"A\",382),(1,\"A\",252),(1,\"A\",480),(1,\"A\",502),(1,\"A\",214),\n",
        "                    (1,\"A\",424),(1,\"A\",234),(1,\"A\",430),(1,\"A\",637),(1,\"A\",258),(1,\"A\",383),(1,\"A\",253),(1,\"A\",580),(1,\"A\",503),(1,\"A\",314),\n",
        "                    (1,\"A\",425),(1,\"A\",224),(1,\"A\",440),(1,\"A\",238),(1,\"A\",259),(1,\"A\",384),(1,\"A\",254),(1,\"A\",680),(1,\"A\",504),(1,\"A\",414),\n",
        "                    (1,\"A\",426),(1,\"A\",214),(1,\"A\",450),(1,\"A\",239),(1,\"A\",210),(1,\"A\",385),(1,\"A\",255),(1,\"A\",780),(1,\"A\",505),(1,\"A\",514),\n",
        "                    (1,\"A\",416),(1,\"A\",221),(1,\"A\",399),(1,\"A\",202),(1,\"A\",362),(1,\"A\",341),(1,\"A\",202),(1,\"A\",810),(1,\"A\",581),(1,\"A\",124),\n",
        "                    (1,\"B\",710),(1,\"B\",489),(1,\"B\",321),(1,\"B\",221),(1,\"B\",285),(1,\"B\",290),(1,\"B\",210),(1,\"B\",316),(1,\"B\",602),(1,\"B\",149),\n",
        "                    (1,\"A\",631),(2,\"C\",143),(2,\"A\",154),(3,\"C\",476),(3,\"A\",832),(1,\"C\",115),(2,\"B\",168),(2,\"A\",284),(1,\"B\",509),(3,\"C\",115),\n",
        "                    (1,\"A\",631),(1,\"B\",143),(2,\"B\",154),(1,\"C\",416),(3,\"A\",132),(2,\"C\",125),(2,\"B\",161),(3,\"A\",214),(1,\"B\",519),(3,\"C\",212),\n",
        "                    (1,\"A\",621),(3,\"C\",143),(2,\"C\",154),(1,\"A\",425),(1,\"A\",232),(2,\"C\",131),(1,\"B\",162),(2,\"A\",224),(2,\"B\",529),(3,\"A\",314),\n",
        "                    (1,\"A\",611),(1,\"C\",143),(2,\"A\",154),(1,\"B\",436),(1,\"A\",332),(2,\"C\",142),(1,\"B\",163),(2,\"A\",224),(2,\"B\",539),(3,\"A\",434),\n",
        "                    (1,\"A\",691),(2,\"C\",143),(2,\"B\",254),(1,\"C\",446),(1,\"A\",432),(2,\"C\",153),(1,\"B\",164),(2,\"A\",234),(2,\"B\",549),(3,\"A\",424),\n",
        "                    (1,\"A\",321),(3,\"C\",143),(2,\"C\",354),(1,\"B\",456),(1,\"A\",532),(2,\"C\",214),(1,\"B\",165),(2,\"A\",354),(2,\"B\",559),(3,\"A\",435),\n",
        "                    (1,\"A\",231),(1,\"C\",143),(2,\"A\",454),(1,\"A\",466),(1,\"A\",632),(2,\"C\",315),(1,\"B\",166),(2,\"A\",464),(2,\"B\",569),(3,\"A\",446),\n",
        "                    (1,\"B\",531),(2,\"C\",143),(2,\"B\",554),(1,\"B\",416),(1,\"B\",732),(2,\"C\",416),(1,\"B\",167),(2,\"A\",584),(2,\"B\",579),(3,\"A\",458),\n",
        "                    (1,\"A\",531),(2,\"C\",143),(2,\"B\",554),(1,\"C\",496),(1,\"A\",732),(2,\"C\",416),(1,\"B\",167),(2,\"A\",584),(2,\"B\",579),(3,\"A\",458),\n",
        "                    (1,\"A\",531),(2,\"C\",143),(2,\"B\",554),(1,\"C\",496),(1,\"A\",732),(2,\"C\",416),(1,\"B\",167),(2,\"A\",584),(2,\"B\",579),(3,\"A\",458),\n",
        "                    (1,\"A\",831),(1,\"C\",143),(2,\"C\",654),(1,\"C\",486),(1,\"A\",832),(2,\"C\",517),(1,\"B\",173),(2,\"A\",364),(2,\"B\",589),(3,\"A\",457),\n",
        "                    (1,\"A\",631),(1,\"C\",143),(2,\"A\",754),(1,\"B\",471),(1,\"A\",122),(2,\"C\",158),(1,\"B\",184),(2,\"A\",144),(2,\"B\",599),(3,\"A\",427),\n",
        "                    (1,\"A\",699),(2,\"C\",143),(2,\"B\",654),(1,\"A\",272),(1,\"A\",824),(2,\"C\",169),(1,\"B\",195),(2,\"A\",223),(2,\"B\",219),(3,\"A\",415),\n",
        "                    (1,\"A\",641),(3,\"A\",143),(2,\"A\",114),(3,\"C\",376),(2,\"A\",835),(1,\"C\",125),(2,\"B\",106),(2,\"A\",284),(1,\"B\",309),(3,\"A\",119),\n",
        "                    (1,\"A\",186),(1,\"A\",235),(2,\"B\",351),(3,\"A\",133),(3,\"A\",857),(2,\"A\",215),(1,\"A\",152),(1,\"A\",209),(1,\"C\",215),(3,\"C\",206)]\n",
        "                     ).toDF([\"ID\",\"X\",\"Y\"])\n",
        "# df.show()"
      ],
      "execution_count": null,
      "outputs": []
    },
    {
      "cell_type": "code",
      "metadata": {
        "colab": {
          "base_uri": "https://localhost:8080/"
        },
        "id": "ZybgL5L3j50A",
        "outputId": "2077c893-1378-40d3-b28a-84ad63347f9f"
      },
      "source": [
        "# inputデータの件数確認\n",
        "df.count()"
      ],
      "execution_count": null,
      "outputs": [
        {
          "output_type": "execute_result",
          "data": {
            "text/plain": [
              "250"
            ]
          },
          "metadata": {
            "tags": []
          },
          "execution_count": 172
        }
      ]
    },
    {
      "cell_type": "code",
      "metadata": {
        "colab": {
          "base_uri": "https://localhost:8080/"
        },
        "id": "QojlIfzekB3B",
        "outputId": "9762d266-ff2f-4e66-c542-16b8a47818a2"
      },
      "source": [
        "# シードと割合の設定\n",
        "seed = 12\n",
        "fractions = df.select(\"ID\").distinct().withColumn(\"fraction\", lit(0.5)).rdd.collectAsMap()\n",
        "print(fractions)                                                       "
      ],
      "execution_count": null,
      "outputs": [
        {
          "output_type": "stream",
          "text": [
            "{1: 0.5, 3: 0.5, 2: 0.5}\n"
          ],
          "name": "stdout"
        }
      ]
    },
    {
      "cell_type": "code",
      "metadata": {
        "id": "ZudqS7sZlFl9"
      },
      "source": [
        "sampled_df = df.stat.sampleBy(\"ID\", fractions, seed)\n",
        "# sampled_df.show()"
      ],
      "execution_count": null,
      "outputs": []
    },
    {
      "cell_type": "code",
      "metadata": {
        "colab": {
          "base_uri": "https://localhost:8080/"
        },
        "id": "7seIo1JVkECB",
        "outputId": "3247be44-e8f0-40e2-97c7-721a3a622842"
      },
      "source": [
        "# サンプリング件数を確認\n",
        "sampled_df.count()"
      ],
      "execution_count": null,
      "outputs": [
        {
          "output_type": "execute_result",
          "data": {
            "text/plain": [
              "128"
            ]
          },
          "metadata": {
            "tags": []
          },
          "execution_count": 175
        }
      ]
    },
    {
      "cell_type": "code",
      "metadata": {
        "colab": {
          "base_uri": "https://localhost:8080/"
        },
        "id": "_WVN87goj_lW",
        "outputId": "4d278c19-4c13-415d-ddd0-d511ce56c47f"
      },
      "source": [
        "# ★サンプリング前のデータ\n",
        "# 変数：IDごとの件数確認\n",
        "df.groupBy(\"ID\").count().sort(\"ID\").show()"
      ],
      "execution_count": null,
      "outputs": [
        {
          "output_type": "stream",
          "text": [
            "+---+-----+\n",
            "| ID|count|\n",
            "+---+-----+\n",
            "|  1|  151|\n",
            "|  2|   68|\n",
            "|  3|   31|\n",
            "+---+-----+\n",
            "\n"
          ],
          "name": "stdout"
        }
      ]
    },
    {
      "cell_type": "code",
      "metadata": {
        "colab": {
          "base_uri": "https://localhost:8080/"
        },
        "id": "sAjfnG1IkF8i",
        "outputId": "415476fb-d0ff-48b1-9472-49a1d5fb23ec"
      },
      "source": [
        "# ★サンプリング後のデータ\n",
        "# 変数：IDごとの件数確認\n",
        "sampled_df.groupBy(\"ID\").count().sort(\"ID\").show()"
      ],
      "execution_count": null,
      "outputs": [
        {
          "output_type": "stream",
          "text": [
            "+---+-----+\n",
            "| ID|count|\n",
            "+---+-----+\n",
            "|  1|   68|\n",
            "|  2|   44|\n",
            "|  3|   16|\n",
            "+---+-----+\n",
            "\n"
          ],
          "name": "stdout"
        }
      ]
    },
    {
      "cell_type": "code",
      "metadata": {
        "id": "Muw53D3ZkHyD"
      },
      "source": [
        ""
      ],
      "execution_count": null,
      "outputs": []
    },
    {
      "cell_type": "markdown",
      "metadata": {
        "id": "3gTo6Syas7-c"
      },
      "source": [
        "## 2.層別サンプリング\n",
        "sampleByKeyサンプル\n",
        "\n",
        "https://stackoverflow.com/questions/43878019/pyspark-sampleby-using-multiple-columns\n"
      ]
    },
    {
      "cell_type": "code",
      "metadata": {
        "id": "biLvvA5etF7m"
      },
      "source": [
        "# inputデータ作成\n",
        "# 上で使ったデータを使用\n",
        "# df.show()"
      ],
      "execution_count": null,
      "outputs": []
    },
    {
      "cell_type": "code",
      "metadata": {
        "id": "fF60ALSHtJfd",
        "colab": {
          "base_uri": "https://localhost:8080/"
        },
        "outputId": "dded2167-08da-4c19-91b7-b8a7984e4c2d"
      },
      "source": [
        "# 複数のkeyを使って、strata（層）を指定\n",
        "#   ※ここでは、1つめ,2つめの変数を使用\n",
        "# 各キーにサンプリング割合を割り当て\n",
        "fractions = df.select(\"ID\", \"X\").rdd.map(lambda x: (x[0],x[1])).distinct().map(lambda x: (x,0.5)).collectAsMap()\n",
        "fractions"
      ],
      "execution_count": null,
      "outputs": [
        {
          "output_type": "execute_result",
          "data": {
            "text/plain": [
              "{(1, 'A'): 0.5,\n",
              " (1, 'B'): 0.5,\n",
              " (1, 'C'): 0.5,\n",
              " (2, 'A'): 0.5,\n",
              " (2, 'B'): 0.5,\n",
              " (2, 'C'): 0.5,\n",
              " (3, 'A'): 0.5,\n",
              " (3, 'C'): 0.5}"
            ]
          },
          "metadata": {
            "tags": []
          },
          "execution_count": 179
        }
      ]
    },
    {
      "cell_type": "code",
      "metadata": {
        "id": "UD_PhSoNtWX9"
      },
      "source": [
        "# キーを設定\n",
        "kb = df.rdd.keyBy(lambda x: (x[0],x[1]))\n",
        "# kb.collect()"
      ],
      "execution_count": null,
      "outputs": []
    },
    {
      "cell_type": "code",
      "metadata": {
        "id": "spvL9UEOtZ8A"
      },
      "source": [
        "# 新しくキー設定されたrddからサンプリング\n",
        "# ※サンプルが値を返さなかった場合は、「ValueError：RDDisempty」エラーが発生\n",
        "sampleddf = kb.sampleByKey(False,fractions,seed).map(lambda x: x[1]).toDF(df.columns)\n",
        "# sampleddf.show()"
      ],
      "execution_count": null,
      "outputs": []
    },
    {
      "cell_type": "code",
      "metadata": {
        "colab": {
          "base_uri": "https://localhost:8080/"
        },
        "id": "zf1j7KABWlis",
        "outputId": "9e032fea-fd52-4ef8-a602-e720e6af46b5"
      },
      "source": [
        "# サンプリング件数を確認\n",
        "sampleddf.count()"
      ],
      "execution_count": null,
      "outputs": [
        {
          "output_type": "execute_result",
          "data": {
            "text/plain": [
              "124"
            ]
          },
          "metadata": {
            "tags": []
          },
          "execution_count": 182
        }
      ]
    },
    {
      "cell_type": "code",
      "metadata": {
        "colab": {
          "base_uri": "https://localhost:8080/"
        },
        "id": "liD7YxcbXhWW",
        "outputId": "0c059866-550b-4f06-fc85-87eaa28e5897"
      },
      "source": [
        "# ★サンプリング前のデータ\n",
        "# グループごとのサンプリング件数を確認\n",
        "df.groupBy(\"ID\",\"X\").count().sort(\"ID\",\"X\").show()"
      ],
      "execution_count": null,
      "outputs": [
        {
          "output_type": "stream",
          "text": [
            "+---+---+-----+\n",
            "| ID|  X|count|\n",
            "+---+---+-----+\n",
            "|  1|  A|  104|\n",
            "|  1|  B|   35|\n",
            "|  1|  C|   12|\n",
            "|  2|  A|   22|\n",
            "|  2|  B|   25|\n",
            "|  2|  C|   21|\n",
            "|  3|  A|   20|\n",
            "|  3|  C|   11|\n",
            "+---+---+-----+\n",
            "\n"
          ],
          "name": "stdout"
        }
      ]
    },
    {
      "cell_type": "code",
      "metadata": {
        "colab": {
          "base_uri": "https://localhost:8080/"
        },
        "id": "ehe-3GSDWmI4",
        "outputId": "7e1a603d-6d7b-40d9-b32d-6bba0c2b0777"
      },
      "source": [
        "# ★サンプリング後のデータ\n",
        "# グループごとのサンプリング件数を確認\n",
        "sampleddf.groupBy(\"ID\",\"X\").count().sort(\"ID\",\"X\").show()"
      ],
      "execution_count": null,
      "outputs": [
        {
          "output_type": "stream",
          "text": [
            "+---+---+-----+\n",
            "| ID|  X|count|\n",
            "+---+---+-----+\n",
            "|  1|  A|   55|\n",
            "|  1|  B|   15|\n",
            "|  1|  C|    5|\n",
            "|  2|  A|   14|\n",
            "|  2|  B|   12|\n",
            "|  2|  C|   12|\n",
            "|  3|  A|    7|\n",
            "|  3|  C|    4|\n",
            "+---+---+-----+\n",
            "\n"
          ],
          "name": "stdout"
        }
      ]
    },
    {
      "cell_type": "code",
      "metadata": {
        "id": "kVydMXtJtOLF"
      },
      "source": [
        "  "
      ],
      "execution_count": null,
      "outputs": []
    },
    {
      "cell_type": "markdown",
      "metadata": {
        "id": "pBvw_fqU95Od"
      },
      "source": [
        "## 3.変数重要度の算出"
      ]
    },
    {
      "cell_type": "markdown",
      "metadata": {
        "id": "YrznQ3UnwJLO"
      },
      "source": [
        "### Pandasの場合"
      ]
    },
    {
      "cell_type": "code",
      "metadata": {
        "id": "_jS9i_faY4Us"
      },
      "source": [
        "# 必要なライブラリ読み込み\r\n",
        "import matplotlib.pyplot as plt\r\n",
        "import seaborn as sns\r\n",
        "from sklearn.model_selection import train_test_split\r\n",
        "from sklearn.preprocessing import LabelEncoder\r\n",
        "from sklearn.tree import DecisionTreeClassifier\r\n",
        "import pandas as pd"
      ],
      "execution_count": 44,
      "outputs": []
    },
    {
      "cell_type": "code",
      "metadata": {
        "colab": {
          "base_uri": "https://localhost:8080/"
        },
        "id": "e4AYkd2PY4Xr",
        "outputId": "fa58cc36-8869-49bd-d3f4-a4ccc61b2701"
      },
      "source": [
        "# 利用できるデータセットの一覧とその行数、列数を表示\r\n",
        "dataset_list = sns.get_dataset_names()\r\n",
        "for list_nm in dataset_list:\r\n",
        "  print(list_nm, sns.load_dataset(list_nm).shape)"
      ],
      "execution_count": 45,
      "outputs": [
        {
          "output_type": "stream",
          "text": [
            "anagrams (20, 5)\n",
            "anscombe (44, 3)\n",
            "attention (60, 5)\n",
            "brain_networks (923, 63)\n",
            "car_crashes (51, 8)\n",
            "diamonds (53940, 10)\n",
            "dots (848, 5)\n",
            "exercise (90, 6)\n",
            "flights (144, 3)\n",
            "fmri (1064, 5)\n",
            "gammas (6000, 4)\n",
            "geyser (272, 3)\n",
            "iris (150, 5)\n",
            "mpg (398, 9)\n",
            "penguins (344, 7)\n",
            "planets (1035, 6)\n",
            "tips (244, 7)\n",
            "titanic (891, 15)\n"
          ],
          "name": "stdout"
        }
      ]
    },
    {
      "cell_type": "code",
      "metadata": {
        "id": "1HjXrFWKZL__"
      },
      "source": [
        "# diamondsデータを使用\r\n",
        "diamonds = sns.load_dataset(\"diamonds\")\r\n",
        "diamonds['target_flg'] = diamonds['cut'].apply(lambda x: 1 if x == 'Premium' else 0)"
      ],
      "execution_count": 46,
      "outputs": []
    },
    {
      "cell_type": "code",
      "metadata": {
        "colab": {
          "base_uri": "https://localhost:8080/"
        },
        "id": "5YHaKm66iuol",
        "outputId": "e6be582d-ec82-48d4-c0d0-b766adb4f274"
      },
      "source": [
        "print('全件', diamonds.shape)\r\n",
        "print('TGの件数', diamonds[diamonds[\"target_flg\"] == 1].shape)"
      ],
      "execution_count": 47,
      "outputs": [
        {
          "output_type": "stream",
          "text": [
            "全件 (53940, 11)\n",
            "TGの件数 (13791, 11)\n"
          ],
          "name": "stdout"
        }
      ]
    },
    {
      "cell_type": "code",
      "metadata": {
        "colab": {
          "base_uri": "https://localhost:8080/",
          "height": 204
        },
        "id": "WgpjUPRVbGRS",
        "outputId": "720d6515-f58b-4989-ea9e-be08aa360e9a"
      },
      "source": [
        "diamonds.head()"
      ],
      "execution_count": 52,
      "outputs": [
        {
          "output_type": "execute_result",
          "data": {
            "text/html": [
              "<div>\n",
              "<style scoped>\n",
              "    .dataframe tbody tr th:only-of-type {\n",
              "        vertical-align: middle;\n",
              "    }\n",
              "\n",
              "    .dataframe tbody tr th {\n",
              "        vertical-align: top;\n",
              "    }\n",
              "\n",
              "    .dataframe thead th {\n",
              "        text-align: right;\n",
              "    }\n",
              "</style>\n",
              "<table border=\"1\" class=\"dataframe\">\n",
              "  <thead>\n",
              "    <tr style=\"text-align: right;\">\n",
              "      <th></th>\n",
              "      <th>carat</th>\n",
              "      <th>cut</th>\n",
              "      <th>color</th>\n",
              "      <th>clarity</th>\n",
              "      <th>depth</th>\n",
              "      <th>table</th>\n",
              "      <th>price</th>\n",
              "      <th>x</th>\n",
              "      <th>y</th>\n",
              "      <th>z</th>\n",
              "      <th>target_flg</th>\n",
              "    </tr>\n",
              "  </thead>\n",
              "  <tbody>\n",
              "    <tr>\n",
              "      <th>0</th>\n",
              "      <td>0.23</td>\n",
              "      <td>Ideal</td>\n",
              "      <td>E</td>\n",
              "      <td>SI2</td>\n",
              "      <td>61.5</td>\n",
              "      <td>55.0</td>\n",
              "      <td>326</td>\n",
              "      <td>3.95</td>\n",
              "      <td>3.98</td>\n",
              "      <td>2.43</td>\n",
              "      <td>0</td>\n",
              "    </tr>\n",
              "    <tr>\n",
              "      <th>1</th>\n",
              "      <td>0.21</td>\n",
              "      <td>Premium</td>\n",
              "      <td>E</td>\n",
              "      <td>SI1</td>\n",
              "      <td>59.8</td>\n",
              "      <td>61.0</td>\n",
              "      <td>326</td>\n",
              "      <td>3.89</td>\n",
              "      <td>3.84</td>\n",
              "      <td>2.31</td>\n",
              "      <td>1</td>\n",
              "    </tr>\n",
              "    <tr>\n",
              "      <th>2</th>\n",
              "      <td>0.23</td>\n",
              "      <td>Good</td>\n",
              "      <td>E</td>\n",
              "      <td>VS1</td>\n",
              "      <td>56.9</td>\n",
              "      <td>65.0</td>\n",
              "      <td>327</td>\n",
              "      <td>4.05</td>\n",
              "      <td>4.07</td>\n",
              "      <td>2.31</td>\n",
              "      <td>0</td>\n",
              "    </tr>\n",
              "    <tr>\n",
              "      <th>3</th>\n",
              "      <td>0.29</td>\n",
              "      <td>Premium</td>\n",
              "      <td>I</td>\n",
              "      <td>VS2</td>\n",
              "      <td>62.4</td>\n",
              "      <td>58.0</td>\n",
              "      <td>334</td>\n",
              "      <td>4.20</td>\n",
              "      <td>4.23</td>\n",
              "      <td>2.63</td>\n",
              "      <td>1</td>\n",
              "    </tr>\n",
              "    <tr>\n",
              "      <th>4</th>\n",
              "      <td>0.31</td>\n",
              "      <td>Good</td>\n",
              "      <td>J</td>\n",
              "      <td>SI2</td>\n",
              "      <td>63.3</td>\n",
              "      <td>58.0</td>\n",
              "      <td>335</td>\n",
              "      <td>4.34</td>\n",
              "      <td>4.35</td>\n",
              "      <td>2.75</td>\n",
              "      <td>0</td>\n",
              "    </tr>\n",
              "  </tbody>\n",
              "</table>\n",
              "</div>"
            ],
            "text/plain": [
              "   carat      cut color clarity  depth  ...  price     x     y     z  target_flg\n",
              "0   0.23    Ideal     E     SI2   61.5  ...    326  3.95  3.98  2.43           0\n",
              "1   0.21  Premium     E     SI1   59.8  ...    326  3.89  3.84  2.31           1\n",
              "2   0.23     Good     E     VS1   56.9  ...    327  4.05  4.07  2.31           0\n",
              "3   0.29  Premium     I     VS2   62.4  ...    334  4.20  4.23  2.63           1\n",
              "4   0.31     Good     J     SI2   63.3  ...    335  4.34  4.35  2.75           0\n",
              "\n",
              "[5 rows x 11 columns]"
            ]
          },
          "metadata": {
            "tags": []
          },
          "execution_count": 52
        }
      ]
    },
    {
      "cell_type": "code",
      "metadata": {
        "id": "dNn9jskJwIv3"
      },
      "source": [
        "def encodeing_label(data):\n",
        "  le = LabelEncoder()\n",
        "  le.fit(data)\n",
        "  return le.transform(data)"
      ],
      "execution_count": 49,
      "outputs": []
    },
    {
      "cell_type": "code",
      "metadata": {
        "id": "FNIgrr6ZzfWr"
      },
      "source": [
        "def encoding_dataframe(df, drop_var):\n",
        "\n",
        "  df_encd = df.copy()         #参照元のデータを置き換えないようにコピー\n",
        "  #決定木に入れるためにカテゴリ変数を変換\n",
        "  df_extracted = df.drop(drop_var, axis=1)\n",
        "  df_label = df_extracted.select_dtypes(exclude=['number'])\n",
        "\n",
        "  for i in df_label.columns:\n",
        "    df_encd[i] = encodeing_label(df_encd[i])\n",
        "  return df_encd"
      ],
      "execution_count": 50,
      "outputs": []
    },
    {
      "cell_type": "code",
      "metadata": {
        "id": "ws2XWBHUyJpP",
        "colab": {
          "base_uri": "https://localhost:8080/",
          "height": 204
        },
        "outputId": "8106c739-56d3-40d6-d999-280aa32d2f43"
      },
      "source": [
        "drop_var = ['x', 'y', 'z', 'target_flg','cut']\r\n",
        "diamonds_encd = encoding_dataframe(diamonds, drop_var)\r\n",
        "diamonds_encd.head()"
      ],
      "execution_count": 53,
      "outputs": [
        {
          "output_type": "execute_result",
          "data": {
            "text/html": [
              "<div>\n",
              "<style scoped>\n",
              "    .dataframe tbody tr th:only-of-type {\n",
              "        vertical-align: middle;\n",
              "    }\n",
              "\n",
              "    .dataframe tbody tr th {\n",
              "        vertical-align: top;\n",
              "    }\n",
              "\n",
              "    .dataframe thead th {\n",
              "        text-align: right;\n",
              "    }\n",
              "</style>\n",
              "<table border=\"1\" class=\"dataframe\">\n",
              "  <thead>\n",
              "    <tr style=\"text-align: right;\">\n",
              "      <th></th>\n",
              "      <th>carat</th>\n",
              "      <th>cut</th>\n",
              "      <th>color</th>\n",
              "      <th>clarity</th>\n",
              "      <th>depth</th>\n",
              "      <th>table</th>\n",
              "      <th>price</th>\n",
              "      <th>x</th>\n",
              "      <th>y</th>\n",
              "      <th>z</th>\n",
              "      <th>target_flg</th>\n",
              "    </tr>\n",
              "  </thead>\n",
              "  <tbody>\n",
              "    <tr>\n",
              "      <th>0</th>\n",
              "      <td>0.23</td>\n",
              "      <td>Ideal</td>\n",
              "      <td>1</td>\n",
              "      <td>3</td>\n",
              "      <td>61.5</td>\n",
              "      <td>55.0</td>\n",
              "      <td>326</td>\n",
              "      <td>3.95</td>\n",
              "      <td>3.98</td>\n",
              "      <td>2.43</td>\n",
              "      <td>0</td>\n",
              "    </tr>\n",
              "    <tr>\n",
              "      <th>1</th>\n",
              "      <td>0.21</td>\n",
              "      <td>Premium</td>\n",
              "      <td>1</td>\n",
              "      <td>2</td>\n",
              "      <td>59.8</td>\n",
              "      <td>61.0</td>\n",
              "      <td>326</td>\n",
              "      <td>3.89</td>\n",
              "      <td>3.84</td>\n",
              "      <td>2.31</td>\n",
              "      <td>1</td>\n",
              "    </tr>\n",
              "    <tr>\n",
              "      <th>2</th>\n",
              "      <td>0.23</td>\n",
              "      <td>Good</td>\n",
              "      <td>1</td>\n",
              "      <td>4</td>\n",
              "      <td>56.9</td>\n",
              "      <td>65.0</td>\n",
              "      <td>327</td>\n",
              "      <td>4.05</td>\n",
              "      <td>4.07</td>\n",
              "      <td>2.31</td>\n",
              "      <td>0</td>\n",
              "    </tr>\n",
              "    <tr>\n",
              "      <th>3</th>\n",
              "      <td>0.29</td>\n",
              "      <td>Premium</td>\n",
              "      <td>5</td>\n",
              "      <td>5</td>\n",
              "      <td>62.4</td>\n",
              "      <td>58.0</td>\n",
              "      <td>334</td>\n",
              "      <td>4.20</td>\n",
              "      <td>4.23</td>\n",
              "      <td>2.63</td>\n",
              "      <td>1</td>\n",
              "    </tr>\n",
              "    <tr>\n",
              "      <th>4</th>\n",
              "      <td>0.31</td>\n",
              "      <td>Good</td>\n",
              "      <td>6</td>\n",
              "      <td>3</td>\n",
              "      <td>63.3</td>\n",
              "      <td>58.0</td>\n",
              "      <td>335</td>\n",
              "      <td>4.34</td>\n",
              "      <td>4.35</td>\n",
              "      <td>2.75</td>\n",
              "      <td>0</td>\n",
              "    </tr>\n",
              "  </tbody>\n",
              "</table>\n",
              "</div>"
            ],
            "text/plain": [
              "   carat      cut  color  clarity  depth  ...  price     x     y     z  target_flg\n",
              "0   0.23    Ideal      1        3   61.5  ...    326  3.95  3.98  2.43           0\n",
              "1   0.21  Premium      1        2   59.8  ...    326  3.89  3.84  2.31           1\n",
              "2   0.23     Good      1        4   56.9  ...    327  4.05  4.07  2.31           0\n",
              "3   0.29  Premium      5        5   62.4  ...    334  4.20  4.23  2.63           1\n",
              "4   0.31     Good      6        3   63.3  ...    335  4.34  4.35  2.75           0\n",
              "\n",
              "[5 rows x 11 columns]"
            ]
          },
          "metadata": {
            "tags": []
          },
          "execution_count": 53
        }
      ]
    },
    {
      "cell_type": "code",
      "metadata": {
        "id": "CmirRP2_zjhW"
      },
      "source": [
        "def model_select_keep_var(df, drop_var):\n",
        "\n",
        "  train_x, test_x, train_y, test_y = train_test_split(df.drop(drop_var, axis=1),\n",
        "                                                       df['target_flg'],\n",
        "                                                       random_state = 12345,\n",
        "                                                       train_size = 0.8)\n",
        "  tree = DecisionTreeClassifier(criterion = 'gini',\n",
        "                                random_state = 12345\n",
        "  ).fit(train_x, train_y)\n",
        "\n",
        "  # 重要変数をDF化\n",
        "  imp_df = pd.DataFrame(tree.feature_importances_, train_x.columns, columns=['freature_importances_'])\n",
        "  # 上位50変数のみ\n",
        "  imp_df = imp_df.sort_values('freature_importances_', ascending=False)[0:50]\n",
        "  print('変数の重要度', imp_df)\n",
        "  return list(imp_df.index)\n"
      ],
      "execution_count": 54,
      "outputs": []
    },
    {
      "cell_type": "code",
      "metadata": {
        "colab": {
          "base_uri": "https://localhost:8080/"
        },
        "id": "vvuYF2hkfH0l",
        "outputId": "ea1a777c-1cd8-4433-b729-4682522ab163"
      },
      "source": [
        "keep_var = model_select_keep_var(diamonds_encd, drop_var)"
      ],
      "execution_count": 55,
      "outputs": [
        {
          "output_type": "stream",
          "text": [
            "変数の重要度          freature_importances_\n",
            "table                 0.335951\n",
            "price                 0.241432\n",
            "depth                 0.219881\n",
            "carat                 0.109338\n",
            "color                 0.051723\n",
            "clarity               0.041676\n"
          ],
          "name": "stdout"
        }
      ]
    },
    {
      "cell_type": "markdown",
      "metadata": {
        "id": "ibri5WXqnMja"
      },
      "source": [
        "### Pysparkの場合"
      ]
    },
    {
      "cell_type": "code",
      "metadata": {
        "id": "VaD-pWmXnTex"
      },
      "source": [
        "# 必要なライブラリ読み込み\r\n",
        "import seaborn as sns\r\n",
        "from pyspark.sql import functions as F\r\n",
        "from pyspark.mllib.tree import DecisionTree, DecisionTreeModel\r\n",
        "# from sklearn.model_selection import train_test_split\r\n",
        "# from sklearn.preprocessing import LabelEncoder\r\n",
        "# from sklearn.tree import DecisionTreeClassifier\r\n",
        "# import pandas as pd"
      ],
      "execution_count": 62,
      "outputs": []
    },
    {
      "cell_type": "code",
      "metadata": {
        "id": "zU1VNDmVnTpz",
        "colab": {
          "base_uri": "https://localhost:8080/"
        },
        "outputId": "3f8dccd3-5e49-4020-aa2a-0d41276fa0fc"
      },
      "source": [
        "# diamondsデータを使用\n",
        "diamonds = sqlContext.createDataFrame(sns.load_dataset(\"diamonds\")).withColumn(\n",
        "    \"target_flg\",\n",
        "    F.when(F.col('cut') == 'Premium', 1)\n",
        "    .otherwise(0)\n",
        ")\n",
        "diamonds.show(5)"
      ],
      "execution_count": 158,
      "outputs": [
        {
          "output_type": "stream",
          "text": [
            "+-----+-------+-----+-------+-----+-----+-----+----+----+----+----------+\n",
            "|carat|    cut|color|clarity|depth|table|price|   x|   y|   z|target_flg|\n",
            "+-----+-------+-----+-------+-----+-----+-----+----+----+----+----------+\n",
            "| 0.23|  Ideal|    E|    SI2| 61.5| 55.0|  326|3.95|3.98|2.43|         0|\n",
            "| 0.21|Premium|    E|    SI1| 59.8| 61.0|  326|3.89|3.84|2.31|         1|\n",
            "| 0.23|   Good|    E|    VS1| 56.9| 65.0|  327|4.05|4.07|2.31|         0|\n",
            "| 0.29|Premium|    I|    VS2| 62.4| 58.0|  334| 4.2|4.23|2.63|         1|\n",
            "| 0.31|   Good|    J|    SI2| 63.3| 58.0|  335|4.34|4.35|2.75|         0|\n",
            "+-----+-------+-----+-------+-----+-----+-----+----+----+----+----------+\n",
            "only showing top 5 rows\n",
            "\n"
          ],
          "name": "stdout"
        }
      ]
    },
    {
      "cell_type": "code",
      "metadata": {
        "colab": {
          "base_uri": "https://localhost:8080/"
        },
        "id": "tvZKL3k6_VVR",
        "outputId": "b067b923-9789-4d3b-c70b-2d9e7a899380"
      },
      "source": [
        "print('全件', diamonds.count())\n",
        "print('TGの件数', diamonds[diamonds[\"target_flg\"] == 1].count())"
      ],
      "execution_count": 69,
      "outputs": [
        {
          "output_type": "stream",
          "text": [
            "全件 53940\n",
            "TGの件数 13791\n"
          ],
          "name": "stdout"
        }
      ]
    },
    {
      "cell_type": "code",
      "metadata": {
        "id": "SJOe4023oDY0"
      },
      "source": [
        ""
      ],
      "execution_count": 251,
      "outputs": []
    },
    {
      "cell_type": "code",
      "metadata": {
        "id": "aG3PEykKoDfd"
      },
      "source": [
        ""
      ],
      "execution_count": null,
      "outputs": []
    },
    {
      "cell_type": "code",
      "metadata": {
        "id": "ptlF-cIGoDiZ"
      },
      "source": [
        ""
      ],
      "execution_count": null,
      "outputs": []
    },
    {
      "cell_type": "code",
      "metadata": {
        "id": "BESwHffxoDlk"
      },
      "source": [
        ""
      ],
      "execution_count": null,
      "outputs": []
    },
    {
      "cell_type": "markdown",
      "metadata": {
        "id": "KQ1OU9tmbo-I"
      },
      "source": [
        "#### 決定木回帰  \n",
        "http://mogile.web.fc2.com/spark/ml-classification-regression.html"
      ]
    },
    {
      "cell_type": "code",
      "metadata": {
        "id": "yg55NyvmJJB9"
      },
      "source": [
        "from pyspark.ml import Pipeline\n",
        "from pyspark.ml.regression import DecisionTreeRegressor\n",
        "from pyspark.ml.feature import VectorIndexer\n",
        "from pyspark.ml.evaluation import RegressionEvaluator"
      ],
      "execution_count": 93,
      "outputs": []
    },
    {
      "cell_type": "code",
      "metadata": {
        "colab": {
          "base_uri": "https://localhost:8080/"
        },
        "id": "Em3KsnBxbuWW",
        "outputId": "2b1ffa9a-8998-47de-8cc9-017e58efef7c"
      },
      "source": [
        "# ドライブをマウント\n",
        "from google.colab import drive\n",
        "drive.mount('/content/drive')"
      ],
      "execution_count": 97,
      "outputs": [
        {
          "output_type": "stream",
          "text": [
            "Mounted at /content/drive\n"
          ],
          "name": "stdout"
        }
      ]
    },
    {
      "cell_type": "code",
      "metadata": {
        "id": "QXEfgmbEcKb_"
      },
      "source": [
        "# Load the data stored in LIBSVM format as a DataFrame.\n",
        "data = spark.read.format(\"libsvm\").load(\"/content/drive/MyDrive/data/data_mllib_sample_libsvm_data.txt\")"
      ],
      "execution_count": 98,
      "outputs": []
    },
    {
      "cell_type": "code",
      "metadata": {
        "colab": {
          "base_uri": "https://localhost:8080/"
        },
        "id": "tzE7fVJUcoj1",
        "outputId": "acb2d059-9d02-4de6-c9ae-f4211d4e01a5"
      },
      "source": [
        "data.show(5)"
      ],
      "execution_count": 100,
      "outputs": [
        {
          "output_type": "stream",
          "text": [
            "+-----+--------------------+\n",
            "|label|            features|\n",
            "+-----+--------------------+\n",
            "|  0.0|(692,[127,128,129...|\n",
            "|  1.0|(692,[158,159,160...|\n",
            "|  1.0|(692,[124,125,126...|\n",
            "|  1.0|(692,[152,153,154...|\n",
            "|  1.0|(692,[151,152,153...|\n",
            "+-----+--------------------+\n",
            "only showing top 5 rows\n",
            "\n"
          ],
          "name": "stdout"
        }
      ]
    },
    {
      "cell_type": "code",
      "metadata": {
        "colab": {
          "base_uri": "https://localhost:8080/"
        },
        "id": "J4QTfWLhLk3M",
        "outputId": "69852a90-25fc-4c48-b403-6004fdf43280"
      },
      "source": [
        "# Automatically identify categorical features, and index them.\n",
        "# We specify maxCategories so features with > 4 distinct values are treated as continuous.\n",
        "featureIndexer = VectorIndexer(inputCol=\"features\", outputCol=\"indexedFeatures\", maxCategories=4).fit(data)\n",
        "featureIndexer"
      ],
      "execution_count": 105,
      "outputs": [
        {
          "output_type": "execute_result",
          "data": {
            "text/plain": [
              "VectorIndexer_918864284b63"
            ]
          },
          "metadata": {
            "tags": []
          },
          "execution_count": 105
        }
      ]
    },
    {
      "cell_type": "code",
      "metadata": {
        "id": "dlR9pCy5LlAu"
      },
      "source": [
        "# Split the data into training and test sets (30% held out for testing)\n",
        "(trainingData, testData) = data.randomSplit([0.7, 0.3])"
      ],
      "execution_count": 106,
      "outputs": []
    },
    {
      "cell_type": "code",
      "metadata": {
        "id": "mmF2SiBoJJD9"
      },
      "source": [
        "# Train a DecisionTree model.\n",
        "dt = DecisionTreeRegressor(featuresCol=\"indexedFeatures\")"
      ],
      "execution_count": 107,
      "outputs": []
    },
    {
      "cell_type": "code",
      "metadata": {
        "id": "xdTxjyyxdzkD"
      },
      "source": [
        "# Chain indexer and tree in a Pipeline\n",
        "pipeline = Pipeline(stages=[featureIndexer, dt])"
      ],
      "execution_count": 108,
      "outputs": []
    },
    {
      "cell_type": "code",
      "metadata": {
        "id": "mWiJE1n8dzpg"
      },
      "source": [
        "# Train model.  This also runs the indexer.\n",
        "model = pipeline.fit(trainingData)"
      ],
      "execution_count": 109,
      "outputs": []
    },
    {
      "cell_type": "code",
      "metadata": {
        "id": "-Ph77rPMdzr8"
      },
      "source": [
        "# Make predictions.\n",
        "predictions = model.transform(testData)"
      ],
      "execution_count": 110,
      "outputs": []
    },
    {
      "cell_type": "code",
      "metadata": {
        "colab": {
          "base_uri": "https://localhost:8080/"
        },
        "id": "-k6Hj5SCdzuo",
        "outputId": "daf582cf-1444-42d5-fbb0-7373678f6042"
      },
      "source": [
        "# Select example rows to display.\n",
        "predictions.select(\"prediction\", \"label\", \"features\").show(5)"
      ],
      "execution_count": 111,
      "outputs": [
        {
          "output_type": "stream",
          "text": [
            "+----------+-----+--------------------+\n",
            "|prediction|label|            features|\n",
            "+----------+-----+--------------------+\n",
            "|       0.0|  0.0|(692,[95,96,97,12...|\n",
            "|       0.0|  0.0|(692,[121,122,123...|\n",
            "|       0.0|  0.0|(692,[123,124,125...|\n",
            "|       0.0|  0.0|(692,[124,125,126...|\n",
            "|       0.0|  0.0|(692,[125,126,127...|\n",
            "+----------+-----+--------------------+\n",
            "only showing top 5 rows\n",
            "\n"
          ],
          "name": "stdout"
        }
      ]
    },
    {
      "cell_type": "code",
      "metadata": {
        "colab": {
          "base_uri": "https://localhost:8080/"
        },
        "id": "of70G5hjd81T",
        "outputId": "886cc28f-0ca1-4d36-fc30-d79910f9eb09"
      },
      "source": [
        "# Select (prediction, true label) and compute test error\n",
        "evaluator = RegressionEvaluator(\n",
        "    labelCol=\"label\", predictionCol=\"prediction\", metricName=\"rmse\")\n",
        "rmse = evaluator.evaluate(predictions)\n",
        "print(\"Root Mean Squared Error (RMSE) on test data = %g\" % rmse)"
      ],
      "execution_count": 112,
      "outputs": [
        {
          "output_type": "stream",
          "text": [
            "Root Mean Squared Error (RMSE) on test data = 0.164399\n"
          ],
          "name": "stdout"
        }
      ]
    },
    {
      "cell_type": "code",
      "metadata": {
        "colab": {
          "base_uri": "https://localhost:8080/"
        },
        "id": "07G283tZeAmJ",
        "outputId": "6c3fd532-e06a-4074-afb8-92b312a8c153"
      },
      "source": [
        "treeModel = model.stages[1]\n",
        "# summary only\n",
        "print(treeModel)"
      ],
      "execution_count": 152,
      "outputs": [
        {
          "output_type": "stream",
          "text": [
            "DecisionTreeRegressionModel (uid=DecisionTreeRegressor_671a3a1fb578) of depth 1 with 3 nodes\n"
          ],
          "name": "stdout"
        }
      ]
    },
    {
      "cell_type": "code",
      "metadata": {
        "colab": {
          "base_uri": "https://localhost:8080/"
        },
        "id": "G3Ik5muZe7k0",
        "outputId": "cfb75d26-9c34-4ac4-8ea1-a898f2ff4e09"
      },
      "source": [
        "# 決定木の分岐条件\n",
        "print(treeModel.toDebugString)"
      ],
      "execution_count": 157,
      "outputs": [
        {
          "output_type": "stream",
          "text": [
            "DecisionTreeRegressionModel (uid=DecisionTreeRegressor_671a3a1fb578) of depth 1 with 3 nodes\n",
            "  If (feature 434 <= 70.5)\n",
            "   Predict: 0.0\n",
            "  Else (feature 434 > 70.5)\n",
            "   Predict: 1.0\n",
            "\n"
          ],
          "name": "stdout"
        }
      ]
    },
    {
      "cell_type": "code",
      "metadata": {
        "colab": {
          "base_uri": "https://localhost:8080/"
        },
        "id": "CCsh6xGjku4j",
        "outputId": "dfad03a6-23ec-4be5-b446-840a541120a3"
      },
      "source": [
        "# 変数の重要度\n",
        "print(treeModel.featureImportances)"
      ],
      "execution_count": 156,
      "outputs": [
        {
          "output_type": "stream",
          "text": [
            "(692,[434],[1.0])\n"
          ],
          "name": "stdout"
        }
      ]
    },
    {
      "cell_type": "markdown",
      "metadata": {
        "id": "6u3US67NouHq"
      },
      "source": [
        "#### VectorIndexer\n",
        "カテゴリカルフィーチャ列にインデックスを付ける機能！  \n",
        "????  \n",
        "https://spark.apache.org/docs/latest/api/python/pyspark.ml.html?highlight=vectorindexer#pyspark.ml.feature.VectorIndexer"
      ]
    },
    {
      "cell_type": "code",
      "metadata": {
        "id": "R4T8PNNGtKiv"
      },
      "source": [
        "from pyspark.ml.linalg import Vectors"
      ],
      "execution_count": 227,
      "outputs": []
    },
    {
      "cell_type": "code",
      "metadata": {
        "id": "VC43f97yoth1"
      },
      "source": [
        "df = spark.createDataFrame([\n",
        "                            (Vectors.dense([-1.0, 0.0]),),\n",
        "                            (Vectors.dense([0.0, 1.0]),),\n",
        "                            (Vectors.dense([0.0, 2.0]),),\n",
        "                            (Vectors.dense([-1.0, -2.0]),),\n",
        "                            (Vectors.dense([-1.0, -3.2]),),\n",
        "                            (Vectors.dense([0.0, -7.0]),)\n",
        "                            ], [\"a\"])"
      ],
      "execution_count": 233,
      "outputs": []
    },
    {
      "cell_type": "code",
      "metadata": {
        "id": "7L_9oFeoryRf"
      },
      "source": [
        "# df = spark.createDataFrame([(Vectors.dense([-1.0, 0.0]),),\n",
        "#     (Vectors.dense([0.0, 1.0]),), (Vectors.dense([0.0, 2.0]),)], [\"a\"])"
      ],
      "execution_count": 234,
      "outputs": []
    },
    {
      "cell_type": "code",
      "metadata": {
        "colab": {
          "base_uri": "https://localhost:8080/"
        },
        "id": "L1yHW5Ifpb2M",
        "outputId": "60358c5f-d745-43f6-b4c4-eaa7036f0486"
      },
      "source": [
        "df.show()"
      ],
      "execution_count": 235,
      "outputs": [
        {
          "output_type": "stream",
          "text": [
            "+-----------+\n",
            "|          a|\n",
            "+-----------+\n",
            "| [-1.0,0.0]|\n",
            "|  [0.0,1.0]|\n",
            "|  [0.0,2.0]|\n",
            "|[-1.0,-2.0]|\n",
            "|[-1.0,-3.2]|\n",
            "| [0.0,-7.0]|\n",
            "+-----------+\n",
            "\n"
          ],
          "name": "stdout"
        }
      ]
    },
    {
      "cell_type": "code",
      "metadata": {
        "id": "vEYsGeIIp2hM"
      },
      "source": [
        "indexer = VectorIndexer(maxCategories=2, inputCol=\"a\")\n",
        "indexer.setOutputCol(\"indexed\")\n",
        "indexer.getHandleInvalid()\n",
        "model = indexer.fit(df)"
      ],
      "execution_count": 238,
      "outputs": []
    },
    {
      "cell_type": "code",
      "metadata": {
        "colab": {
          "base_uri": "https://localhost:8080/"
        },
        "id": "sIlbpb06pEP4",
        "outputId": "c1a95a8c-d97f-40e0-a146-e60ec1f058c6"
      },
      "source": [
        "df_trans = model.transform(df)\n",
        "df_trans.show()"
      ],
      "execution_count": 239,
      "outputs": [
        {
          "output_type": "stream",
          "text": [
            "+-----------+----------+\n",
            "|          a|   indexed|\n",
            "+-----------+----------+\n",
            "| [-1.0,0.0]| [1.0,0.0]|\n",
            "|  [0.0,1.0]| [0.0,1.0]|\n",
            "|  [0.0,2.0]| [0.0,2.0]|\n",
            "|[-1.0,-2.0]|[1.0,-2.0]|\n",
            "|[-1.0,-3.2]|[1.0,-3.2]|\n",
            "| [0.0,-7.0]|[0.0,-7.0]|\n",
            "+-----------+----------+\n",
            "\n"
          ],
          "name": "stdout"
        }
      ]
    },
    {
      "cell_type": "code",
      "metadata": {
        "colab": {
          "base_uri": "https://localhost:8080/"
        },
        "id": "CjQjfhm2pESd",
        "outputId": "92d8dc15-f8ef-4477-db38-9326e63352b5"
      },
      "source": [
        "model.numFeatures"
      ],
      "execution_count": 240,
      "outputs": [
        {
          "output_type": "execute_result",
          "data": {
            "text/plain": [
              "2"
            ]
          },
          "metadata": {
            "tags": []
          },
          "execution_count": 240
        }
      ]
    },
    {
      "cell_type": "code",
      "metadata": {
        "colab": {
          "base_uri": "https://localhost:8080/"
        },
        "id": "Ohd3r4snpEUx",
        "outputId": "6f624b05-f153-4af6-a6f8-6dc04fe411d1"
      },
      "source": [
        "model.categoryMaps"
      ],
      "execution_count": 241,
      "outputs": [
        {
          "output_type": "execute_result",
          "data": {
            "text/plain": [
              "{0: {0.0: 0, -1.0: 1}}"
            ]
          },
          "metadata": {
            "tags": []
          },
          "execution_count": 241
        }
      ]
    },
    {
      "cell_type": "code",
      "metadata": {
        "colab": {
          "base_uri": "https://localhost:8080/"
        },
        "id": "xoX6C6ShpEXV",
        "outputId": "abd357b4-ac80-4279-8610-2232d093ea1e"
      },
      "source": [
        "indexer.setParams(outputCol=\"test\").fit(df).transform(df).collect()[1].test"
      ],
      "execution_count": 242,
      "outputs": [
        {
          "output_type": "execute_result",
          "data": {
            "text/plain": [
              "DenseVector([0.0, 1.0])"
            ]
          },
          "metadata": {
            "tags": []
          },
          "execution_count": 242
        }
      ]
    },
    {
      "cell_type": "code",
      "metadata": {
        "colab": {
          "base_uri": "https://localhost:8080/"
        },
        "id": "foN7SLNKotpu",
        "outputId": "d0f18e3e-61bd-4d20-a0d4-cc345ad01a1f"
      },
      "source": [
        "params = {indexer.maxCategories: 3, indexer.outputCol: \"vector\"}\n",
        "model2 = indexer.fit(df, params)\n",
        "model2.transform(df).head().vector"
      ],
      "execution_count": 243,
      "outputs": [
        {
          "output_type": "execute_result",
          "data": {
            "text/plain": [
              "DenseVector([1.0, 0.0])"
            ]
          },
          "metadata": {
            "tags": []
          },
          "execution_count": 243
        }
      ]
    },
    {
      "cell_type": "code",
      "metadata": {
        "colab": {
          "base_uri": "https://localhost:8080/",
          "height": 35
        },
        "id": "SXZU_aT5otsz",
        "outputId": "7afe7a38-b572-491f-ba6e-4aef6cc6642d"
      },
      "source": [
        "dfWithInvalid = spark.createDataFrame([(Vectors.dense([3.0, 1.0]),)], [\"a\"])\n",
        "indexer.getHandleInvalid()"
      ],
      "execution_count": 248,
      "outputs": [
        {
          "output_type": "execute_result",
          "data": {
            "application/vnd.google.colaboratory.intrinsic+json": {
              "type": "string"
            },
            "text/plain": [
              "'keep'"
            ]
          },
          "metadata": {
            "tags": []
          },
          "execution_count": 248
        }
      ]
    },
    {
      "cell_type": "code",
      "metadata": {
        "colab": {
          "base_uri": "https://localhost:8080/"
        },
        "id": "n2Ufb4YIuMQg",
        "outputId": "1a898dd0-0811-4390-ccbd-bb8248ba5721"
      },
      "source": [
        "model3 = indexer.setHandleInvalid(\"skip\").fit(df)\n",
        "model3.transform(dfWithInvalid).count()"
      ],
      "execution_count": 249,
      "outputs": [
        {
          "output_type": "execute_result",
          "data": {
            "text/plain": [
              "0"
            ]
          },
          "metadata": {
            "tags": []
          },
          "execution_count": 249
        }
      ]
    },
    {
      "cell_type": "code",
      "metadata": {
        "colab": {
          "base_uri": "https://localhost:8080/"
        },
        "id": "rYJmTF7huMTy",
        "outputId": "a7b0ac78-0e40-4eb3-ab4f-e446be6cb591"
      },
      "source": [
        "model4 = indexer.setParams(handleInvalid=\"keep\", outputCol=\"indexed\").fit(df)\n",
        "model4.transform(dfWithInvalid).head().indexed"
      ],
      "execution_count": 250,
      "outputs": [
        {
          "output_type": "execute_result",
          "data": {
            "text/plain": [
              "DenseVector([2.0, 1.0])"
            ]
          },
          "metadata": {
            "tags": []
          },
          "execution_count": 250
        }
      ]
    },
    {
      "cell_type": "code",
      "metadata": {
        "id": "biwreirjuMXJ"
      },
      "source": [
        "# よくわかんない？？？"
      ],
      "execution_count": 251,
      "outputs": []
    },
    {
      "cell_type": "markdown",
      "metadata": {
        "id": "m8xflp2ail6m"
      },
      "source": [
        "#### VectorAssembler\n",
        "複数列を1つの列にマージする機能！  \n",
        "1列しか指定できない引数のときに、キー複数列用いたい時とかに使う？   \n",
        "https://spark.apache.org/docs/latest/api/python/pyspark.ml.html?highlight=vectorassembler#pyspark.ml.feature.VectorAssembler"
      ]
    },
    {
      "cell_type": "code",
      "metadata": {
        "colab": {
          "base_uri": "https://localhost:8080/"
        },
        "id": "R1GZm9nOgLfr",
        "outputId": "5f17d8fd-59d9-4174-b97f-33d2ba918f89"
      },
      "source": [
        "df = spark.createDataFrame([(1, 0, 3)], [\"a\", \"b\", \"c\"])"
      ],
      "execution_count": 124,
      "outputs": [
        {
          "output_type": "execute_result",
          "data": {
            "text/plain": [
              "VectorAssembler_cb298ecf4ca8"
            ]
          },
          "metadata": {
            "tags": []
          },
          "execution_count": 124
        }
      ]
    },
    {
      "cell_type": "code",
      "metadata": {
        "colab": {
          "base_uri": "https://localhost:8080/"
        },
        "id": "WGW_8qywjI5O",
        "outputId": "6fe5ef77-0396-4850-f207-41478e1811ce"
      },
      "source": [
        "df.show(5)"
      ],
      "execution_count": 130,
      "outputs": [
        {
          "output_type": "stream",
          "text": [
            "+---+---+---+\n",
            "|  a|  b|  c|\n",
            "+---+---+---+\n",
            "|  1|  0|  3|\n",
            "+---+---+---+\n",
            "\n"
          ],
          "name": "stdout"
        }
      ]
    },
    {
      "cell_type": "code",
      "metadata": {
        "colab": {
          "base_uri": "https://localhost:8080/"
        },
        "id": "yTGjhHI9hkhE",
        "outputId": "58792598-09bc-4002-f6e0-1968d03965b4"
      },
      "source": [
        "vecAssembler = VectorAssembler(outputCol=\"features\")\n",
        "vecAssembler.setInputCols([\"a\", \"b\", \"c\"])"
      ],
      "execution_count": 162,
      "outputs": [
        {
          "output_type": "execute_result",
          "data": {
            "text/plain": [
              "VectorAssembler_211e8bb90557"
            ]
          },
          "metadata": {
            "tags": []
          },
          "execution_count": 162
        }
      ]
    },
    {
      "cell_type": "code",
      "metadata": {
        "colab": {
          "base_uri": "https://localhost:8080/"
        },
        "id": "9ODxpgb8jvU4",
        "outputId": "cd95837e-11dd-42b5-c03d-beec81b679b5"
      },
      "source": [
        "df_trans = vecAssembler.transform(df)\n",
        "df_trans.show(5)"
      ],
      "execution_count": 150,
      "outputs": [
        {
          "output_type": "stream",
          "text": [
            "+---+---+---+-------------+\n",
            "|  a|  b|  c|     features|\n",
            "+---+---+---+-------------+\n",
            "|  1|  0|  3|[1.0,0.0,3.0]|\n",
            "+---+---+---+-------------+\n",
            "\n"
          ],
          "name": "stdout"
        }
      ]
    },
    {
      "cell_type": "markdown",
      "metadata": {
        "id": "xPys59JckR7H"
      },
      "source": [
        ""
      ]
    },
    {
      "cell_type": "code",
      "metadata": {
        "id": "Xt7kPQG4hvFx"
      },
      "source": [
        ""
      ],
      "execution_count": 157,
      "outputs": []
    },
    {
      "cell_type": "code",
      "metadata": {
        "id": "mwkLz4hJhvJU"
      },
      "source": [
        ""
      ],
      "execution_count": 157,
      "outputs": []
    },
    {
      "cell_type": "code",
      "metadata": {
        "id": "-3Vr673phvMb"
      },
      "source": [
        ""
      ],
      "execution_count": 157,
      "outputs": []
    },
    {
      "cell_type": "code",
      "metadata": {
        "id": "BdN5_2Srftmf"
      },
      "source": [
        ""
      ],
      "execution_count": 157,
      "outputs": []
    },
    {
      "cell_type": "code",
      "metadata": {
        "id": "P63kLXOje7rv"
      },
      "source": [
        ""
      ],
      "execution_count": 157,
      "outputs": []
    },
    {
      "cell_type": "code",
      "metadata": {
        "id": "WrdSSnYfe7t-"
      },
      "source": [
        ""
      ],
      "execution_count": 157,
      "outputs": []
    },
    {
      "cell_type": "code",
      "metadata": {
        "id": "cbltwbsUfpFP"
      },
      "source": [
        ""
      ],
      "execution_count": null,
      "outputs": []
    },
    {
      "cell_type": "code",
      "metadata": {
        "id": "3EKMxx_Le7wH"
      },
      "source": [
        ""
      ],
      "execution_count": 157,
      "outputs": []
    },
    {
      "cell_type": "code",
      "metadata": {
        "id": "bSKbw3AsCUxI"
      },
      "source": [
        ""
      ],
      "execution_count": 157,
      "outputs": []
    },
    {
      "cell_type": "code",
      "metadata": {
        "id": "5w9Ig2OiCUzI"
      },
      "source": [
        ""
      ],
      "execution_count": null,
      "outputs": []
    },
    {
      "cell_type": "markdown",
      "metadata": {
        "id": "6i7fEpfzaWFf"
      },
      "source": [
        "## 決定木の基本"
      ]
    },
    {
      "cell_type": "code",
      "metadata": {
        "id": "NaYOwQF99-bU"
      },
      "source": [
        "# pandasの場合の決定木\n",
        "# DecisionTreeClassfier()\n",
        "\n",
        "# imp_df = pd.Dataframe(tree.feature_importances_, train_x.columns, columns=[\"feature_importances_\"])\n",
        "# imp_df = imp_df.sort_values(\"feature_importances_\", ascending=False)[0:50]\n",
        "# # 先頭５０の重要変数を出力\n",
        "# print(\"変数重要度の確認\", imp_df)\n"
      ],
      "execution_count": null,
      "outputs": []
    }
  ]
}